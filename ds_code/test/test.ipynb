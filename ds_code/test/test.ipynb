{
 "cells": [
  {
   "cell_type": "code",
   "execution_count": 1,
   "metadata": {},
   "outputs": [],
   "source": [
    "import sys,os\n",
    "sys.path.append(\"../basic/\")\n",
    "# print(sys.path)\n",
    "\n",
    "from stack import Stack"
   ]
  },
  {
   "cell_type": "code",
   "execution_count": 2,
   "metadata": {},
   "outputs": [
    {
     "name": "stdout",
     "output_type": "stream",
     "text": [
      "1000000\n"
     ]
    }
   ],
   "source": [
    "def divide_by2(decNumber):\n",
    "    remstack=Stack()\n",
    "    while decNumber>0:\n",
    "        rem=decNumber%2\n",
    "        remstack.push(rem)\n",
    "        decNumber = decNumber//2\n",
    "\n",
    "    binString=\"\"\n",
    "    while not remstack.isEmpty():\n",
    "        binString = binString+str(remstack.pop())\n",
    "    return binString\n",
    "\n",
    "print(divide_by2(64))"
   ]
  },
  {
   "cell_type": "code",
   "execution_count": 3,
   "metadata": {},
   "outputs": [
    {
     "name": "stdout",
     "output_type": "stream",
     "text": [
      "11001\n",
      "19\n"
     ]
    }
   ],
   "source": [
    "def baseConverter(decNumber,base):\n",
    "    digits=\"0123456789ABCDEF\"\n",
    "    remstack=Stack()\n",
    "    while decNumber>0:\n",
    "        rem=decNumber%base\n",
    "        remstack.push(rem)\n",
    "        decNumber = decNumber//base\n",
    "\n",
    "    newString=\"\"\n",
    "    while not remstack.isEmpty():\n",
    "        newString = newString+digits[remstack.pop()]\n",
    "    return newString\n",
    "\n",
    "print(baseConverter(25,2))\n",
    "print(baseConverter(25,16))"
   ]
  },
  {
   "cell_type": "code",
   "execution_count": null,
   "metadata": {},
   "outputs": [],
   "source": [
    "def infixToPostfix(infixexpr):\n",
    "    opstack=Stack()\n",
    "    postfixList=[]\n",
    "    prec={}\n",
    "    prec[\"*\"]=3\n",
    "    prec[\"/\"]=3\n",
    "    prec[\"+\"]=2\n",
    "    prec[\"-\"]=2\n",
    "    prec[\"(\"]=1\n",
    "    tokenList = infixexpr.split()\n",
    "\n",
    "    for token in tokenList:\n",
    "        if token in \"ABCDEFGHIJKLMNOPQRSTUVWXYZ\" or \\\n",
    "            token in \"0123456789\":\n",
    "            postfixList.append(token)\n",
    "        elif token ==\"(\":\n",
    "            opstack.push(token)\n",
    "        elif token ==\")\":\n",
    "            topToken = opstack.pop()\n",
    "            while topToken!=\"(\":\n",
    "                pass\n"
   ]
  },
  {
   "cell_type": "code",
   "execution_count": 2,
   "metadata": {},
   "outputs": [
    {
     "data": {
      "text/plain": [
       "6"
      ]
     },
     "execution_count": 2,
     "metadata": {},
     "output_type": "execute_result"
    }
   ],
   "source": [
    "def nChooseK(n,k):\n",
    "    # return 0 #change the code here\n",
    "    res = 1\n",
    "    for i in range(k):\n",
    "        res=res*(n-i)//(k-i)\n",
    "    return res\n",
    " \n",
    "nChooseK(6,4)"
   ]
  },
  {
   "cell_type": "code",
   "execution_count": 3,
   "metadata": {},
   "outputs": [
    {
     "name": "stdout",
     "output_type": "stream",
     "text": [
      "6.000000E+00\n"
     ]
    }
   ],
   "source": [
    "print(\"{rs:<10.6E}\".format(rs=nChooseK(6,4)))"
   ]
  }
 ],
 "metadata": {
  "kernelspec": {
   "display_name": "Python 3.7.3 ('base')",
   "language": "python",
   "name": "python3"
  },
  "language_info": {
   "codemirror_mode": {
    "name": "ipython",
    "version": 3
   },
   "file_extension": ".py",
   "mimetype": "text/x-python",
   "name": "python",
   "nbconvert_exporter": "python",
   "pygments_lexer": "ipython3",
   "version": "3.7.3"
  },
  "orig_nbformat": 4,
  "vscode": {
   "interpreter": {
    "hash": "2c39f61ee5170f247714b00030b401b54dfae6fdf080bf1ca29dd562b78e5705"
   }
  }
 },
 "nbformat": 4,
 "nbformat_minor": 2
}
