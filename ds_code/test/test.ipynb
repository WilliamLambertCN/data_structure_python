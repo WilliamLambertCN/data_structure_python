{
 "cells": [
  {
   "cell_type": "code",
   "execution_count": 2,
   "metadata": {},
   "outputs": [],
   "source": [
    "import sys,os\n",
    "sys.path.append(\"../basic/\")\n",
    "# print(sys.path)\n",
    "\n",
    "from stack import Stack"
   ]
  },
  {
   "cell_type": "code",
   "execution_count": 2,
   "metadata": {},
   "outputs": [
    {
     "name": "stdout",
     "output_type": "stream",
     "text": [
      "1000000\n"
     ]
    }
   ],
   "source": [
    "def divide_by2(decNumber):\n",
    "    remstack=Stack()\n",
    "    while decNumber>0:\n",
    "        rem=decNumber%2\n",
    "        remstack.push(rem)\n",
    "        decNumber = decNumber//2\n",
    "\n",
    "    binString=\"\"\n",
    "    while not remstack.isEmpty():\n",
    "        binString = binString+str(remstack.pop())\n",
    "    return binString\n",
    "\n",
    "print(divide_by2(64))"
   ]
  },
  {
   "cell_type": "code",
   "execution_count": 3,
   "metadata": {},
   "outputs": [
    {
     "name": "stdout",
     "output_type": "stream",
     "text": [
      "11001\n",
      "19\n"
     ]
    }
   ],
   "source": [
    "def baseConverter(decNumber,base):\n",
    "    digits=\"0123456789ABCDEF\"\n",
    "    remstack=Stack()\n",
    "    while decNumber>0:\n",
    "        rem=decNumber%base\n",
    "        remstack.push(rem)\n",
    "        decNumber = decNumber//base\n",
    "\n",
    "    newString=\"\"\n",
    "    while not remstack.isEmpty():\n",
    "        newString = newString+digits[remstack.pop()]\n",
    "    return newString\n",
    "\n",
    "print(baseConverter(25,2))\n",
    "print(baseConverter(25,16))"
   ]
  },
  {
   "cell_type": "code",
   "execution_count": 8,
   "metadata": {},
   "outputs": [
    {
     "name": "stdout",
     "output_type": "stream",
     "text": [
      "A B * C D * +\n"
     ]
    },
    {
     "data": {
      "text/plain": [
       "['A', '*', 'B', '+', 'C', '*', 'D']"
      ]
     },
     "execution_count": 8,
     "metadata": {},
     "output_type": "execute_result"
    }
   ],
   "source": [
    "def infixToPostfix(infixexpr):\n",
    "    opstack=Stack()\n",
    "    postfixList=[]\n",
    "    prec={}\n",
    "    prec[\"*\"]=3\n",
    "    prec[\"/\"]=3\n",
    "    prec[\"+\"]=2\n",
    "    prec[\"-\"]=2\n",
    "    prec[\"(\"]=1\n",
    "    tokenList = list(infixexpr)\n",
    "\n",
    "    for token in tokenList:\n",
    "        if token in \"ABCDEFGHIJKLMNOPQRSTUVWXYZ\" or \\\n",
    "            token in \"0123456789\":\n",
    "            postfixList.append(token)\n",
    "        elif token ==\"(\":\n",
    "            opstack.push(token)\n",
    "        elif token ==\")\":\n",
    "            topToken = opstack.pop()\n",
    "            while topToken!=\"(\":\n",
    "                postfixList.append(topToken)\n",
    "                topToken = opstack.pop()\n",
    "        else:\n",
    "            while (not opstack.isEmpty()) and \\\n",
    "                prec[opstack.peek()] >= prec[token]:\n",
    "                postfixList.append(opstack.pop())\n",
    "            opstack.push(token)\n",
    "    while not opstack.isEmpty():\n",
    "        postfixList.append(opstack.pop())\n",
    "\n",
    "    return \" \".join(postfixList)\n",
    "\n",
    "print(infixToPostfix(\"A*B+C*D\"))\n",
    "list(\"A*B+C*D\")"
   ]
  },
  {
   "cell_type": "code",
   "execution_count": 9,
   "metadata": {},
   "outputs": [
    {
     "name": "stdout",
     "output_type": "stream",
     "text": [
      "A B * C D * +\n"
     ]
    },
    {
     "data": {
      "text/plain": [
       "['D', '*', 'C', '+', 'B', '*', 'A']"
      ]
     },
     "execution_count": 9,
     "metadata": {},
     "output_type": "execute_result"
    }
   ],
   "source": [
    "def postToinfix(infixexpr):\n",
    "    opstack=Stack()\n",
    "    postfixList=[]\n",
    "    prec={}\n",
    "    prec[\"*\"]=3\n",
    "    prec[\"/\"]=3\n",
    "    prec[\"+\"]=2\n",
    "    prec[\"-\"]=2\n",
    "    prec[\"(\"]=1\n",
    "    tokenList = list(infixexpr)\n",
    "\n",
    "    for token in tokenList:\n",
    "        if token in \"ABCDEFGHIJKLMNOPQRSTUVWXYZ\" or \\\n",
    "            token in \"0123456789\":\n",
    "            postfixList.append(token)\n",
    "        elif token ==\"(\":\n",
    "            opstack.push(token)\n",
    "        elif token ==\")\":\n",
    "            topToken = opstack.pop()\n",
    "            while topToken!=\"(\":\n",
    "                postfixList.append(topToken)\n",
    "                topToken = opstack.pop()\n",
    "        else:\n",
    "            while (not opstack.isEmpty()) and \\\n",
    "                prec[opstack.peek()] >= prec[token]:\n",
    "                postfixList.append(opstack.pop())\n",
    "            opstack.push(token)\n",
    "    while not opstack.isEmpty():\n",
    "        postfixList.append(opstack.pop())\n",
    "\n",
    "    return \" \".join(postfixList)\n",
    "\n",
    "print(infixToPostfix(\"A*B+C*D\"))\n",
    "list(\"A*B+C*D\")[::-1]"
   ]
  },
  {
   "cell_type": "code",
   "execution_count": 20,
   "metadata": {},
   "outputs": [
    {
     "name": "stdout",
     "output_type": "stream",
     "text": [
      "-+1*+2345\n"
     ]
    }
   ],
   "source": [
    "import sys,os\n",
    "sys.path.append(\"ds_code/basic/\")\n",
    "# print(sys.path)\n",
    "# print(os.getcwd())\n",
    "\n",
    "from stack import Stack\n",
    "\n",
    "def infixToPrefix(infixexpr):\n",
    "    opStack=Stack()\n",
    "    prefixStack=Stack()\n",
    "    prec={}\n",
    "    prec[\"*\"]=3\n",
    "    prec[\"/\"]=3\n",
    "    prec[\"+\"]=2\n",
    "    prec[\"-\"]=2\n",
    "    prec[\")\"]=1\n",
    "    tokenList = list(infixexpr)[::-1] # inverse the string\n",
    "\n",
    "    for token in tokenList: #digits\n",
    "        # print(token)\n",
    "        if token in \"ABCDEFGHIJKLMNOPQRSTUVWXYZ\" or \\\n",
    "            token in \"0123456789\":\n",
    "            prefixStack.push(token)\n",
    "        elif token ==\")\": # )\n",
    "            opStack.push(token)\n",
    "        elif token ==\"(\": # (\n",
    "            topToken = opStack.pop()\n",
    "            while topToken!=\")\":\n",
    "                prefixStack.push(topToken)\n",
    "                topToken = opStack.pop()\n",
    "        elif opStack.isEmpty() or prec[opStack.peek()] <= prec[token]: # ops\n",
    "            opStack.push(token)\n",
    "        elif not opStack.isEmpty() and prec[opStack.peek()] > prec[token]:\n",
    "            while (not opStack.isEmpty()) and \\\n",
    "                prec[opStack.peek()] > prec[token]:\n",
    "                prefixStack.push(opStack.pop())\n",
    "            opStack.push(token)\n",
    "    while not opStack.isEmpty(): # ops into prefix exp\n",
    "        prefixStack.push(opStack.pop())\n",
    "    \n",
    "    res=\"\"\n",
    "    while not prefixStack.isEmpty():\n",
    "        res = res+prefixStack.pop()\n",
    "    return res\n",
    "\n",
    "print(infixToPrefix(\"1+(2+3)*4-5\"))"
   ]
  }
 ],
 "metadata": {
  "kernelspec": {
   "display_name": "Python 3.7.3 ('base')",
   "language": "python",
   "name": "python3"
  },
  "language_info": {
   "codemirror_mode": {
    "name": "ipython",
    "version": 3
   },
   "file_extension": ".py",
   "mimetype": "text/x-python",
   "name": "python",
   "nbconvert_exporter": "python",
   "pygments_lexer": "ipython3",
   "version": "3.7.3"
  },
  "orig_nbformat": 4,
  "vscode": {
   "interpreter": {
    "hash": "2c39f61ee5170f247714b00030b401b54dfae6fdf080bf1ca29dd562b78e5705"
   }
  }
 },
 "nbformat": 4,
 "nbformat_minor": 2
}
