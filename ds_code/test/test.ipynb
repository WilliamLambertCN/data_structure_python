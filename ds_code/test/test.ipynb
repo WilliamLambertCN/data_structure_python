{
 "cells": [
  {
   "cell_type": "code",
   "execution_count": 3,
   "metadata": {},
   "outputs": [],
   "source": [
    "import sys,os\n",
    "sys.path.append(\"../basic/\")\n",
    "# print(sys.path)\n",
    "\n",
    "from stack import Stack"
   ]
  },
  {
   "cell_type": "code",
   "execution_count": 6,
   "metadata": {},
   "outputs": [
    {
     "name": "stdout",
     "output_type": "stream",
     "text": [
      "1000000\n"
     ]
    }
   ],
   "source": [
    "def divide_by2(decNumber):\n",
    "    remstack=Stack()\n",
    "    while decNumber>0:\n",
    "        rem=decNumber%2\n",
    "        remstack.push(rem)\n",
    "        decNumber = decNumber//2\n",
    "\n",
    "    binString=\"\"\n",
    "    while not remstack.isEmpty():\n",
    "        binString = binString+str(remstack.pop())\n",
    "    return binString\n",
    "\n",
    "print(divide_by2(64))"
   ]
  },
  {
   "cell_type": "code",
   "execution_count": 9,
   "metadata": {},
   "outputs": [
    {
     "name": "stdout",
     "output_type": "stream",
     "text": [
      "11001\n",
      "19\n"
     ]
    }
   ],
   "source": [
    "def baseConverter(decNumber,base):\n",
    "    digits=\"0123456789ABCDEF\"\n",
    "    remstack=Stack()\n",
    "    while decNumber>0:\n",
    "        rem=decNumber%base\n",
    "        remstack.push(rem)\n",
    "        decNumber = decNumber//base\n",
    "\n",
    "    newString=\"\"\n",
    "    while not remstack.isEmpty():\n",
    "        newString = newString+digits[remstack.pop()]\n",
    "    return newString\n",
    "\n",
    "print(baseConverter(25,2))\n",
    "print(baseConverter(25,16))"
   ]
  }
 ],
 "metadata": {
  "kernelspec": {
   "display_name": "Python 3.7.7 ('torch1.5')",
   "language": "python",
   "name": "python3"
  },
  "language_info": {
   "codemirror_mode": {
    "name": "ipython",
    "version": 3
   },
   "file_extension": ".py",
   "mimetype": "text/x-python",
   "name": "python",
   "nbconvert_exporter": "python",
   "pygments_lexer": "ipython3",
   "version": "3.7.7"
  },
  "orig_nbformat": 4,
  "vscode": {
   "interpreter": {
    "hash": "1cc1373cbe1af2a8822be2d63b92189a545e15a6c867e77b4a516dca8a2aad2b"
   }
  }
 },
 "nbformat": 4,
 "nbformat_minor": 2
}
